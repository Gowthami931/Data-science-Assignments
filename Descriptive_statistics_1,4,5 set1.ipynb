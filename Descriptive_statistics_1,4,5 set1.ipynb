{
  "nbformat": 4,
  "nbformat_minor": 0,
  "metadata": {
    "colab": {
      "provenance": []
    },
    "kernelspec": {
      "name": "python3",
      "display_name": "Python 3"
    },
    "language_info": {
      "name": "python"
    }
  },
  "cells": [
    {
      "cell_type": "code",
      "execution_count": null,
      "metadata": {
        "id": "ymA3JHuwvxg3"
      },
      "outputs": [],
      "source": []
    },
    {
      "cell_type": "markdown",
      "source": [
        "Topics: Descriptive Statistics and Probability\n",
        "\n",
        "\n",
        "1.Look at the data given below. Plot the data, find the outliers and find out  \n",
        "\n",
        "Name of company\tMeasure X\n",
        "Allied Signal\t24.23%\n",
        "Bankers Trust\t25.53%\n",
        "General Mills\t25.41%\n",
        "ITT Industries\t24.14%\n",
        "J.P.Morgan & Co.\t29.62%\n",
        "Lehman Brothers\t28.25%\n",
        "Marriott\t25.81%\n",
        "MCI\t24.39%\n",
        "Merrill Lynch\t40.26%\n",
        "Microsoft\t32.95%\n",
        "Morgan Stanley\t91.36%\n",
        "Sun Microsystems\t25.99%\n",
        "Travelers\t39.42%\n",
        "US Airways\t26.71%\n",
        "Warner-Lambert\t35.00%"
      ],
      "metadata": {
        "id": "45WaFMAqvyhx"
      }
    },
    {
      "cell_type": "code",
      "source": [
        "import numpy as np"
      ],
      "metadata": {
        "id": "2HtwLeH1v3b2"
      },
      "execution_count": 1,
      "outputs": []
    },
    {
      "cell_type": "code",
      "source": [
        "measure_x=[24.23,25.53,25.41,24.14,29.62,28.25,25.81,24.39,40.26,32.95,91.36,25.99,39.42,26.71,35.0]"
      ],
      "metadata": {
        "id": "zOih0iCIv-9E"
      },
      "execution_count": 7,
      "outputs": []
    },
    {
      "cell_type": "code",
      "source": [
        "mean=np.average(measure_x) #(mue)\n",
        "mean"
      ],
      "metadata": {
        "colab": {
          "base_uri": "https://localhost:8080/"
        },
        "id": "y-D3FP59wWsj",
        "outputId": "596c79ee-3de5-47cc-add1-dd98305d1c43"
      },
      "execution_count": 8,
      "outputs": [
        {
          "output_type": "execute_result",
          "data": {
            "text/plain": [
              "33.27133333333333"
            ]
          },
          "metadata": {},
          "execution_count": 8
        }
      ]
    },
    {
      "cell_type": "code",
      "source": [
        "variance=np.var(measure_x)#sigma\n",
        "variance"
      ],
      "metadata": {
        "colab": {
          "base_uri": "https://localhost:8080/"
        },
        "id": "o6V0CxypwhtP",
        "outputId": "92abcea8-6d7c-48c0-d34a-3c4cd56e27a4"
      },
      "execution_count": 9,
      "outputs": [
        {
          "output_type": "execute_result",
          "data": {
            "text/plain": [
              "268.00350488888887"
            ]
          },
          "metadata": {},
          "execution_count": 9
        }
      ]
    },
    {
      "cell_type": "code",
      "source": [
        "standard_diviation=np.std(measure_x)\n",
        "standard_diviation"
      ],
      "metadata": {
        "colab": {
          "base_uri": "https://localhost:8080/"
        },
        "id": "WXz4JpjGxPYr",
        "outputId": "0a73b17a-302b-4e25-b082-bc6fa334e989"
      },
      "execution_count": 11,
      "outputs": [
        {
          "output_type": "execute_result",
          "data": {
            "text/plain": [
              "16.370812590976932"
            ]
          },
          "metadata": {},
          "execution_count": 11
        }
      ]
    },
    {
      "cell_type": "markdown",
      "source": [
        "4.AT&T was running commercials in 1990 aimed at luring back customers who had switched to one of the other long-distance phone service providers. One such commercial shows a businessman trying to reach Phoenix and mistakenly getting Fiji, where a half-naked native on a beach responds incomprehensibly in Polynesian. When asked about this advertisement, AT&T admitted that the portrayed incident did not actually take place but added that this was an enactment of something that “could happen.” Suppose that one in 200 long-distance telephone calls is misdirected. What is the probability that at least one in five attempted telephone calls reaches the wrong number? (Assume independence of attempts.)\n"
      ],
      "metadata": {
        "id": "FHBDUPGpxokp"
      }
    },
    {
      "cell_type": "code",
      "source": [
        "popualtion_size=200\n",
        "one_in_200_misdirected=1/200\n",
        "sample_size=5"
      ],
      "metadata": {
        "id": "VOj5TyN5xrXF"
      },
      "execution_count": 12,
      "outputs": []
    },
    {
      "cell_type": "code",
      "source": [
        "from scipy.stats import binom\n",
        "bi=binom(sample_size,one_in_200_misdirected)\n",
        "p=1-bi.cdf(0)\n",
        "p"
      ],
      "metadata": {
        "colab": {
          "base_uri": "https://localhost:8080/"
        },
        "id": "gPP5Erfcx5FT",
        "outputId": "dc79ef1c-4f67-432e-fd8a-57afc9218afa"
      },
      "execution_count": 13,
      "outputs": [
        {
          "output_type": "execute_result",
          "data": {
            "text/plain": [
              "0.02475124687812502"
            ]
          },
          "metadata": {},
          "execution_count": 13
        }
      ]
    },
    {
      "cell_type": "code",
      "source": [
        "print(\"At Least one in five attempted teliphone calls reaches the numberics:\",(p*100).round(4),\"%\")"
      ],
      "metadata": {
        "colab": {
          "base_uri": "https://localhost:8080/"
        },
        "id": "n0OfRJbOyLqO",
        "outputId": "77f05d26-e9c6-461f-aea2-debbe93985b3"
      },
      "execution_count": 14,
      "outputs": [
        {
          "output_type": "stream",
          "name": "stdout",
          "text": [
            "At Least one in five attempted teliphone calls reaches the numberics: 2.4751 %\n"
          ]
        }
      ]
    },
    {
      "cell_type": "markdown",
      "source": [
        "5.Returns on a certain business venture, to the nearest $1,000, are known to follow the following probability distribution\n",
        "\n",
        "\n",
        "\n",
        "x\tP(x)\n",
        "-2,000\t0.1\n",
        "-1,000\t0.1\n",
        "0\t0.2\n",
        "1000\t0.2\n",
        "2000\t0.3\n",
        "3000\t0.1\n",
        "\n",
        "\n",
        "\n",
        "\n"
      ],
      "metadata": {
        "id": "i3KhveUVyqLq"
      }
    },
    {
      "cell_type": "code",
      "source": [
        "import numpy as np\n",
        "X=[-2000,-1000,0,1000,2000]\n",
        "probability_X=[0.1,0.1,0.2,0.2,0.3]\n"
      ],
      "metadata": {
        "id": "XV1YllYVy63u"
      },
      "execution_count": 15,
      "outputs": []
    },
    {
      "cell_type": "code",
      "source": [
        "#calculate weighted mean\n",
        "mean=np.average(X,weights=probability_X)"
      ],
      "metadata": {
        "id": "etT3__bDz0pE"
      },
      "execution_count": 16,
      "outputs": []
    },
    {
      "cell_type": "code",
      "source": [
        "#calculate the weighted variance and then the weighted standard deviation\n",
        "variance=np.average((X-mean)**2,weights=probability_X)\n",
        "std_deviation=np.sqrt(variance)\n",
        "print(\"weighted Mean:\",mean)"
      ],
      "metadata": {
        "colab": {
          "base_uri": "https://localhost:8080/"
        },
        "id": "emy_G6Op0EP_",
        "outputId": "86bc5001-4458-402f-8103-07ed5cc150b2"
      },
      "execution_count": 17,
      "outputs": [
        {
          "output_type": "stream",
          "name": "stdout",
          "text": [
            "weighted Mean: 555.5555555555554\n"
          ]
        }
      ]
    },
    {
      "cell_type": "code",
      "source": [
        "print(\"Weighted Standard Deviation:\",std_deviation)"
      ],
      "metadata": {
        "colab": {
          "base_uri": "https://localhost:8080/"
        },
        "id": "0ddzaDt50vkC",
        "outputId": "621223e1-f767-4ff1-a19c-044d76998619"
      },
      "execution_count": 18,
      "outputs": [
        {
          "output_type": "stream",
          "name": "stdout",
          "text": [
            "Weighted Standard Deviation: 1342.56066373273\n"
          ]
        }
      ]
    }
  ]
}